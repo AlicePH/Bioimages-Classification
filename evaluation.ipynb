{
 "cells": [
  {
   "cell_type": "code",
   "execution_count": null,
   "id": "791ce8e2-0e36-450f-a3d5-85658bd6de24",
   "metadata": {},
   "outputs": [],
   "source": [
    "!pip install torch torchvision gdown -q"
   ]
  },
  {
   "cell_type": "code",
   "execution_count": 1,
   "id": "dbd7d285-61b0-4059-945b-e8761759725d",
   "metadata": {},
   "outputs": [],
   "source": [
    "import gdown\n",
    "import os\n",
    "from PIL import Image\n",
    "import gc\n",
    "\n",
    "import torch\n",
    "import torchvision\n",
    "import torch.nn as nn\n",
    "import torchvision.transforms as transforms\n",
    "from torch.utils.data import Dataset, DataLoader\n",
    "from sklearn.metrics import accuracy_score, f1_score\n",
    "import torch.nn.functional as F\n",
    "\n",
    "\n",
    "import numpy as np\n",
    "import pandas as pd\n",
    "import matplotlib.pyplot as plt\n",
    "import seaborn as sns\n",
    "\n",
    "import sklearn\n",
    "from sklearn.metrics import average_precision_score\n",
    "\n",
    "\n",
    "import random\n",
    "import warnings\n",
    "warnings.filterwarnings(\"ignore\")"
   ]
  },
  {
   "cell_type": "markdown",
   "id": "2635a088-b65c-42fc-8b03-0e3d5513bbff",
   "metadata": {
    "tags": []
   },
   "source": [
    "def seed_everything(seed=42):\n",
    "    random.seed(seed)\n",
    "    os.environ['PYTHONHASHSEED'] = str(seed)\n",
    "    np.random.seed(seed)\n",
    "    torch.manual_seed(seed)\n",
    "    torch.backends.cudnn.deterministic = True\n",
    "    torch.backends.cudnn.benchmark = False\n",
    "    \n",
    "seed_everything()"
   ]
  },
  {
   "cell_type": "markdown",
   "id": "e04b2e22-9ecd-41ad-8f2b-36143f7968c0",
   "metadata": {},
   "source": [
    "### Multi-class probplem"
   ]
  },
  {
   "cell_type": "code",
   "execution_count": 14,
   "id": "8d8f5ffc-4586-4244-8786-c279f02476f8",
   "metadata": {},
   "outputs": [],
   "source": [
    "# gdown.download(\"https://drive.google.com/file/d/1q8Jc3LyQfNxuzAAvIQFAcwrgliHRijix/view?usp=share_link\",\"./class_data.zip\", quiet=False, fuzzy=True)\n",
    "# !unzip -q ./class_data.zip"
   ]
  },
  {
   "cell_type": "markdown",
   "id": "cb18934e-2114-4e1b-a4ad-7aacc52389e5",
   "metadata": {},
   "source": [
    "path_train = './dataset2-master/dataset2-master/images/TRAIN/'\n",
    "train = pd.DataFrame(columns=['img_id', 'label'])\n",
    "\n",
    "for label in os.listdir(path_train):\n",
    "    img_id = os.listdir(path_train + label)\n",
    "\n",
    "    df = pd.DataFrame(img_id, columns=['img_id'])\n",
    "    df['img_id'] = os.path.join(path_train, label)+ '/' + df['img_id']\n",
    "    \n",
    "    df['label'] = os.listdir(path_train).index(label)\n",
    "    train = pd.concat([train, df])\n",
    "        \n",
    "        \n",
    "clean_mask = train['img_id'].apply(lambda x: x.split('/')[-1] =='.ipynb_checkpoints')\n",
    "train = train.loc[~clean_mask, :].reset_index(drop=True)"
   ]
  },
  {
   "cell_type": "markdown",
   "id": "5b542ab1-c344-418f-8151-297e5e962772",
   "metadata": {},
   "source": [
    "num_class = train.label.unique()\n",
    "num_class = len(num_class)\n",
    "train"
   ]
  },
  {
   "cell_type": "markdown",
   "id": "c5dd7418-c0a4-4453-96dd-351dd1268ac7",
   "metadata": {},
   "source": [
    "path_test = './dataset2-master/dataset2-master/images/TEST/'\n",
    "test = pd.DataFrame(columns=['img_id', 'label'])\n",
    "\n",
    "for label in os.listdir(path_test):\n",
    "    img_id = os.listdir(path_test + label)\n",
    "\n",
    "    df = pd.DataFrame(img_id, columns=['img_id'])\n",
    "    df['img_id'] = os.path.join(path_test, label)+ '/' + df['img_id']\n",
    "    \n",
    "    df['label'] = os.listdir(path_test).index(label) \n",
    "    test = pd.concat([test, df])\n",
    "    \n",
    "clean_mask = test['img_id'].apply(lambda x: x.split('/')[-1] =='.ipynb_checkpoints')\n",
    "test = test.loc[~clean_mask, :].reset_index(drop=True)"
   ]
  },
  {
   "cell_type": "markdown",
   "id": "82aa2759-8381-4256-ab38-7104e97ad30d",
   "metadata": {},
   "source": [
    "test"
   ]
  },
  {
   "cell_type": "markdown",
   "id": "0bb787db-8e28-49cd-bd89-408c4d67c3b8",
   "metadata": {},
   "source": [
    "class ClassDataset(Dataset):\n",
    "    def __init__(self, data, transform=None):\n",
    "        self.data = data\n",
    "        self.transform = transform\n",
    "        \n",
    "    def __getitem__(self, idx):\n",
    "        path_img = self.data.loc[idx, 'img_id']\n",
    "        label = self.data.loc[idx, 'label']\n",
    "        \n",
    "        img = Image.open(path_img)\n",
    "        \n",
    "        if self.transform is not None:\n",
    "            img = self.transform(img)\n",
    "            \n",
    "        return img, label\n",
    "    \n",
    "    def __len__(self):\n",
    "        return self.data.shape[0]"
   ]
  },
  {
   "cell_type": "markdown",
   "id": "1cc8c857-1fd4-49a3-ba3f-ef3376a52b14",
   "metadata": {},
   "source": [
    "BATCH_SIZE=8\n",
    "\n",
    "transfrom = transforms.Compose([\n",
    "    transforms.ToTensor(),\n",
    "    transforms.Normalize(0.5, 0.5)\n",
    "])\n",
    "\n",
    "trainset = ClassDataset(train, transfrom)\n",
    "train_dataloader = DataLoader(trainset, batch_size=BATCH_SIZE, shuffle=True)\n",
    "\n",
    "testset = ClassDataset(test, transfrom)\n",
    "test_dataloader = DataLoader(testset, batch_size=1, shuffle=False)"
   ]
  },
  {
   "cell_type": "markdown",
   "id": "d1b23171-d10f-4709-a285-77cf08b6102f",
   "metadata": {},
   "source": [
    "### Utils"
   ]
  },
  {
   "cell_type": "markdown",
   "id": "e9b58418-fdc0-4af8-9596-76f87e9b0963",
   "metadata": {},
   "source": [
    "def save_model(output_dir, epochs, model, optimizer, criterion):\n",
    "    torch.save({\n",
    "                'epoch': epochs,\n",
    "                'model_state_dict': model.state_dict(),\n",
    "                'optimizer_state_dict': optimizer.state_dict(),\n",
    "                'loss': criterion,\n",
    "                }, output_dir)"
   ]
  },
  {
   "cell_type": "markdown",
   "id": "073094ba-c4a0-462e-80cd-54b20b79b8de",
   "metadata": {},
   "source": [
    "def compute_mAP(pred, multi_class=False):\n",
    "    \n",
    "    if multi_class:\n",
    "        labels, outputs = pred\n",
    "        y_true = labels.long().cpu().detach().numpy()\n",
    "        y_pred = outputs.cpu().detach().numpy()\n",
    "        AP = []\n",
    "        for i in range(y_true.shape[0]):\n",
    "            AP.append(average_precision_score(y_true[i], y_pred[i]))\n",
    "        accuracy = np.mean(AP)\n",
    "        \n",
    "    else:\n",
    "        outputs, labels = pred\n",
    "        y_true = labels.cpu().detach().numpy()\n",
    "        y_pred = outputs.cpu().detach().numpy()\n",
    "        accuracy = accuracy_score(y_true, y_pred)\n",
    "        \n",
    "    return accuracy"
   ]
  },
  {
   "cell_type": "markdown",
   "id": "0bab30ec-ed21-40a1-9267-fc6cb7ad7d0a",
   "metadata": {
    "jupyter": {
     "outputs_hidden": true
    },
    "tags": []
   },
   "source": [
    "val(resnet, test_dataloader, criteriation, device)"
   ]
  },
  {
   "cell_type": "markdown",
   "id": "4d6a55ba-9785-4f04-93cd-11d099a9ef0c",
   "metadata": {},
   "source": [
    "def val(model, valloader, criteriation, device, multi_label=False):\n",
    "    model.eval()\n",
    "    \n",
    "    val_loss = 0\n",
    "    val_mAP = 0\n",
    "    \n",
    "    true_label = []\n",
    "    pred_label = []\n",
    "    \n",
    "    for batch in valloader:\n",
    "        img, label = batch\n",
    "        \n",
    "        img, label = img.to(device), label.to(device)\n",
    "        \n",
    "        with torch.no_grad():\n",
    "            output = model(img)\n",
    "            \n",
    "            if multi_label:\n",
    "                output = torch.sigmoid(output)\n",
    "                pred_label.append(output)\n",
    "                \n",
    "            else:\n",
    "                _, preds = torch.max(output, 1)\n",
    "                pred_label.append(preds.item())\n",
    "                \n",
    "            \n",
    "        loss = criteriation(output, label)\n",
    "        val_loss += loss.item()\n",
    "        \n",
    "        true_label.append(label)\n",
    "        \n",
    "        del img, label\n",
    "        \n",
    "    if multi_label:\n",
    "        prediction = (torch.cat(true_label), torch.cat(pred_label))\n",
    "    else:\n",
    "        prediction = (torch.tensor(true_label), torch.tensor(pred_label))\n",
    "        \n",
    "    val_loss = val_loss / len(testset)\n",
    "    return val_loss, compute_mAP(prediction, multi_label), prediction\n",
    "        \n",
    "        "
   ]
  },
  {
   "cell_type": "markdown",
   "id": "c058bdf5-86d2-4e32-9add-8acca17db3d8",
   "metadata": {},
   "source": [
    "def training(model, trainloader, valloader, \n",
    "             device, epochs, optimizer, criteriation, \n",
    "             start=0, path='output/vit.pt', multi_label=False):\n",
    "    \n",
    "    metrics = []\n",
    "    max_val_accuracy = 0\n",
    "    \n",
    "    for epoch in range(start, epochs):\n",
    "        print(f'[{epoch+1}]/[{epochs}] Epoch starts')\n",
    "        train_loss = 0\n",
    "        train_acc = 0\n",
    "        model.train()\n",
    "        \n",
    "        for b_ind, batch in enumerate(trainloader):\n",
    "            \n",
    "            \n",
    "            imgs, labels = batch\n",
    "            imgs, labels = imgs.to(device), labels.to(device)\n",
    "            \n",
    "            outputs = model(imgs)\n",
    "            \n",
    "            if multi_label:\n",
    "                outputs = torch.sigmoid(outputs)\n",
    "                pred = outputs\n",
    "                train_acc += compute_mAP((labels, pred), multi_label) * labels.size(0)\n",
    "                \n",
    "            else:\n",
    "                pred = torch.max(outputs, 1)[1]\n",
    "                train_acc +=  float((pred == labels).cpu().numpy().astype(int).sum())\n",
    "                \n",
    "                \n",
    "            Loss = criteriation(outputs, labels)\n",
    "            train_loss += Loss.item() * labels.size(0)\n",
    "            \n",
    "            \n",
    "            \n",
    "            if b_ind % 250==0:\n",
    "                b_loss = Loss.item()\n",
    "                b_acc = compute_mAP((labels, pred), multi_label)\n",
    "                print(f'\\t Batch train loss: {b_loss}, accuracy {b_acc}')\n",
    "            \n",
    "            \n",
    "            optimizer.zero_grad()\n",
    "            Loss.backward()\n",
    "            optimizer.step()\n",
    "            \n",
    "            \n",
    "            del imgs, labels\n",
    "            \n",
    "        \n",
    "        \n",
    "        val_loss, val_accuracy, _= val(model, valloader, criteriation, device, multi_label)\n",
    "        train_loss = train_loss / len(trainset)\n",
    "        train_acc = train_acc / len(trainset)\n",
    "        \n",
    "        \n",
    "        \n",
    "        print(f'[{epoch+1}]/[{epochs}] End epoch: train loss: {train_loss}, val loss: {val_loss}')\n",
    "        print(f'\\t Epoch train accuracy: {train_acc}, val accuracy: {val_accuracy}\\n')\n",
    "        \n",
    "        torch.cuda.empty_cache()\n",
    "        gc.collect()\n",
    "        \n",
    "        if val_accuracy > max_val_accuracy:\n",
    "            max_val_accuracy = val_accuracy\n",
    "            save_model(path, epoch, model, optimizer, criteriation)\n",
    "        \n",
    "        metrics.append([train_loss, val_loss, train_acc, val_accuracy])\n",
    "        pd.DataFrame(metrics, columns=['train_loss',\n",
    "                                       'val_loss', \n",
    "                                       'train accuracy',\n",
    "                                       'val accuracy'\n",
    "                                      ]).to_csv(path.split('.')[0] + '_metrics.csv', index=False)"
   ]
  },
  {
   "cell_type": "markdown",
   "id": "b9b8e8a3-7b84-41a4-a4a0-504de3479100",
   "metadata": {},
   "source": [
    "### Resnet training"
   ]
  },
  {
   "cell_type": "markdown",
   "id": "b1dc52bd-be6c-4332-b7d2-98cd1fc133d6",
   "metadata": {},
   "source": [
    "if not os.path.exists('multi_class_output'):\n",
    "    os.mkdir('multi_class_output')\n",
    "else:\n",
    "    print('multi_class_output exists')"
   ]
  },
  {
   "cell_type": "markdown",
   "id": "bc766d0d-1dfc-41fa-9c3f-702fbf3f1a87",
   "metadata": {},
   "source": [
    "!nvidia-smi"
   ]
  },
  {
   "cell_type": "markdown",
   "id": "400c82df-76ba-4f12-8a8d-da24e2666882",
   "metadata": {},
   "source": [
    "import gc\n",
    "\n",
    "def clean():\n",
    "    torch.cuda.empty_cache()\n",
    "    gc.collect()"
   ]
  },
  {
   "cell_type": "markdown",
   "id": "e2b714ca-c5d9-4894-a2cf-d4240b89c180",
   "metadata": {},
   "source": [
    "clean()"
   ]
  },
  {
   "cell_type": "code",
   "execution_count": null,
   "id": "3b1a1c42-7247-4692-8cc1-e620a0a8512b",
   "metadata": {},
   "outputs": [],
   "source": [
    "os.environ['CUDA_VISIABLE_DEVICES']='0'"
   ]
  },
  {
   "cell_type": "code",
   "execution_count": null,
   "id": "30edafdf-6845-4446-aed5-0d0008e8e56e",
   "metadata": {},
   "outputs": [],
   "source": [
    "device = torch.device('cuda')"
   ]
  },
  {
   "cell_type": "markdown",
   "id": "21aa6731-feb8-42c0-82b6-f6499c1c9133",
   "metadata": {},
   "source": [
    "### Resnet"
   ]
  },
  {
   "cell_type": "code",
   "execution_count": 31,
   "id": "27888ebc-7615-42ed-9ff0-ec1bfe7c3b42",
   "metadata": {},
   "outputs": [],
   "source": [
    "resnet = torchvision.models.resnet34(pretrained=False, num_classes=4)"
   ]
  },
  {
   "cell_type": "markdown",
   "id": "37838809-6e78-471f-81ae-bfbf63c778f5",
   "metadata": {},
   "source": [
    "resnet = resnet.to(device)"
   ]
  },
  {
   "cell_type": "markdown",
   "id": "7547fcc2-c990-4826-811b-cb8585af6494",
   "metadata": {},
   "source": [
    "optimizer = torch.optim.Adam(resnet.parameters(), lr=1e-5)\n",
    "criteriation = nn.CrossEntropyLoss()"
   ]
  },
  {
   "cell_type": "markdown",
   "id": "a611b1e4-7329-4aca-a8be-dfaf505f627c",
   "metadata": {
    "tags": []
   },
   "source": [
    "training(resnet, train_dataloader, test_dataloader, \n",
    "         device, 100, optimizer, criteriation,\n",
    "         path='multi_class_output/resnet.pt')"
   ]
  },
  {
   "cell_type": "markdown",
   "id": "e20ff2d2-13d3-4f0f-a8dd-0187b2dfcc3f",
   "metadata": {
    "tags": []
   },
   "source": [
    "### Modified Resnet"
   ]
  },
  {
   "cell_type": "code",
   "execution_count": null,
   "id": "12e2c85c-cf06-4001-99ed-fb950490dead",
   "metadata": {},
   "outputs": [],
   "source": [
    "resnet_modified = torchvision.models.resnet34(pretrained=False, num_classes=4)\n",
    "\n",
    "resnet_modified.conv1 = torch.nn.Conv2d(3, 64, \n",
    "                                        kernel_size=(3, 3), \n",
    "                                        stride=(1, 1), \n",
    "                                        padding=(1, 1), \n",
    "                                        bias=False)\n",
    "\n",
    "resnet_modified.maxpool = torch.nn.Identity()"
   ]
  },
  {
   "cell_type": "markdown",
   "id": "7cf720c9-95a8-48cf-8d33-2e30d30e101b",
   "metadata": {},
   "source": [
    "resnet_modified = resnet_modified.to(device)"
   ]
  },
  {
   "cell_type": "markdown",
   "id": "d579e8e2-9f12-4b25-91f0-f704ea548a76",
   "metadata": {},
   "source": [
    "optimizer = torch.optim.Adam(resnet_modified.parameters(), lr=1e-5)\n",
    "criteriation = nn.CrossEntropyLoss()"
   ]
  },
  {
   "cell_type": "markdown",
   "id": "6a615123-67c8-4fb4-b058-de2db730cbb7",
   "metadata": {
    "jupyter": {
     "outputs_hidden": true
    },
    "tags": []
   },
   "source": [
    "training(resnet_modified, train_dataloader, test_dataloader, \n",
    "         device, 10, optimizer, criteriation\n",
    "         path='multi_class_output/resnet_modified.pt')"
   ]
  },
  {
   "cell_type": "markdown",
   "id": "5ed78c93-e1e5-423f-8738-92a9897d8638",
   "metadata": {},
   "source": [
    "### EfficiencyNet"
   ]
  },
  {
   "cell_type": "code",
   "execution_count": null,
   "id": "dfaf6f46-ad27-4b48-8500-0a2bafd05673",
   "metadata": {},
   "outputs": [],
   "source": [
    "effnet = torchvision.models.efficientnet_b0(pretrained=False, num_classes=4)"
   ]
  },
  {
   "cell_type": "markdown",
   "id": "e76d1c71-082a-4ef0-9cf6-1b51733a0f56",
   "metadata": {},
   "source": [
    "effnet = effnet.to(device)"
   ]
  },
  {
   "cell_type": "markdown",
   "id": "16de8d38-2da0-47af-b3eb-447de69ff858",
   "metadata": {},
   "source": [
    "optimizer = torch.optim.Adam(effnet.parameters(), lr=1e-5)\n",
    "criteriation = nn.CrossEntropyLoss()"
   ]
  },
  {
   "cell_type": "markdown",
   "id": "8a3674fb-9683-4252-8ab3-1e13b0d79caf",
   "metadata": {
    "jupyter": {
     "outputs_hidden": true
    },
    "tags": []
   },
   "source": [
    "training(effnet, train_dataloader, test_dataloader, \n",
    "         device, 10, optimizer, criteriation,\n",
    "         path='multi_class_output/effnet.pt')"
   ]
  },
  {
   "cell_type": "markdown",
   "id": "9e952232-ad01-4dad-8685-2fc83010c2a7",
   "metadata": {},
   "source": [
    "### VIT"
   ]
  },
  {
   "cell_type": "code",
   "execution_count": 6,
   "id": "6531ee8b-c0ad-4063-95e3-d264754a4b13",
   "metadata": {},
   "outputs": [],
   "source": [
    "from transformer.vit import Transformer"
   ]
  },
  {
   "cell_type": "markdown",
   "id": "38e44dd3-73cf-424e-a4cc-1671c77d07fb",
   "metadata": {},
   "source": [
    "BATCH_SIZE=4\n",
    "\n",
    "transfrom = transforms.Compose([\n",
    "    transforms.ToTensor(),\n",
    "    transforms.Normalize(0.5, 0.5)\n",
    "])\n",
    "\n",
    "trainset = ClassDataset(train, transfrom)\n",
    "train_dataloader = DataLoader(trainset, batch_size=BATCH_SIZE, shuffle=True)\n",
    "\n",
    "testset = ClassDataset(test, transfrom)\n",
    "test_dataloader = DataLoader(testset, batch_size=1, shuffle=False)"
   ]
  },
  {
   "cell_type": "code",
   "execution_count": null,
   "id": "dc0ce50b-9051-436b-b627-22359ace3f90",
   "metadata": {},
   "outputs": [],
   "source": [
    "transformer = Transformer(img_size=(240, 320),\n",
    "                          patch_size=(8, 8),\n",
    "                          in_channels=3,\n",
    "                          n_classes=num_class,\n",
    "                          embed_dim=128,\n",
    "                          depth=6,\n",
    "                          n_heads=16,\n",
    "                          mlp_ratio=4.,\n",
    "                          qkv_bias=True,\n",
    "                          p=0.3,\n",
    "                          attn_p=0.3\n",
    "                         )"
   ]
  },
  {
   "cell_type": "markdown",
   "id": "11505879-adc8-4a80-8089-6bd6e23aeaee",
   "metadata": {},
   "source": [
    "transformer = transformer.to(device)"
   ]
  },
  {
   "cell_type": "markdown",
   "id": "94e8b938-e469-4657-abd0-99c88f3da334",
   "metadata": {},
   "source": [
    "optimizer = torch.optim.Adam(transformer.parameters(), lr=1e-5)\n",
    "criteriation = nn.CrossEntropyLoss()"
   ]
  },
  {
   "cell_type": "markdown",
   "id": "250c164d-c0be-4edb-a31c-1cb0f710978b",
   "metadata": {
    "jupyter": {
     "outputs_hidden": true
    },
    "tags": []
   },
   "source": [
    "training(transformer, train_dataloader, test_dataloader, \n",
    "         device, 10, optimizer,\n",
    "         path='multi_class_output/transformer.pt')"
   ]
  },
  {
   "cell_type": "code",
   "execution_count": 87,
   "id": "6e5163c9-528f-431e-929a-5f52a4bcfa6a",
   "metadata": {},
   "outputs": [],
   "source": [
    "resnet.load_state_dict(torch.load(f'multi_class_output/resnet.pt')['model_state_dict'])\n",
    "resnet = resnet.to(device)\n",
    "\n",
    "resnet_modified.load_state_dict(torch.load(f'multi_class_output/resnet_modified.pt')['model_state_dict'])\n",
    "resnet_modified = resnet_modified.to(device)\n",
    "\n",
    "effnet.load_state_dict(torch.load(f'multi_class_output/effnet.pt')['model_state_dict'])\n",
    "effnet = effnet.to(device)\n",
    "\n",
    "transformer.load_state_dict(torch.load(f'multi_class_output/transformer.pt')['model_state_dict'])\n",
    "transformer = transformer.to(device)"
   ]
  },
  {
   "cell_type": "markdown",
   "id": "1c681528-4270-49b8-a351-a00663145407",
   "metadata": {},
   "source": [
    "### Number of parameters in model"
   ]
  },
  {
   "cell_type": "code",
   "execution_count": null,
   "id": "9e27cbb0-e4b5-44e0-8654-47f96180a166",
   "metadata": {},
   "outputs": [],
   "source": [
    "def count_params(model):\n",
    "    return sum(p.numel() for p in model.parameters())"
   ]
  },
  {
   "cell_type": "code",
   "execution_count": 50,
   "id": "628b15b8-f3e6-468b-97c3-8dd65e796dbd",
   "metadata": {},
   "outputs": [
    {
     "name": "stdout",
     "output_type": "stream",
     "text": [
      "resnet:  21286.724\n",
      "resnet_modified:  21286.724\n",
      "effnet:  4012.672\n",
      "transformer:  1368.964\n"
     ]
    }
   ],
   "source": [
    "models = [resnet, resnet_modified, effnet, transformer]\n",
    "models_name = ['resnet: ', 'resnet_modified: ', 'effnet: ', 'transformer: ']\n",
    "\n",
    "\n",
    "for name, check_model in zip(models_name, models):\n",
    "    print(name, count_params(check_model) / 1000)"
   ]
  },
  {
   "cell_type": "markdown",
   "id": "2cc81b13-8319-4880-aae3-ca0f06d71f7a",
   "metadata": {},
   "source": [
    "### Metrics"
   ]
  },
  {
   "cell_type": "code",
   "execution_count": 54,
   "id": "1d6f8301-1570-467b-ad6f-1efc72949928",
   "metadata": {},
   "outputs": [],
   "source": [
    "metrics = [met for met in os.listdir('multi_class_output') if met[-3:]=='csv']"
   ]
  },
  {
   "cell_type": "code",
   "execution_count": 63,
   "id": "48e84dbc-2f8e-48f0-86d5-176d737e1774",
   "metadata": {},
   "outputs": [
    {
     "data": {
      "image/png": "[encoded data removed]",
      "text/plain": [
       "<Figure size 640x480 with 1 Axes>"
      ]
     },
     "metadata": {},
     "output_type": "display_data"
    },
    {
     "data": {
      "image/png": "[encoded data removed]",
      "text/plain": [
       "<Figure size 640x480 with 1 Axes>"
      ]
     },
     "metadata": {},
     "output_type": "display_data"
    },
    {
     "data": {
      "image/png": "[encoded data removed]",
      "text/plain": [
       "<Figure size 640x480 with 1 Axes>"
      ]
     },
     "metadata": {},
     "output_type": "display_data"
    },
    {
     "data": {
      "image/png": "[encoded data removed]",
      "text/plain": [
       "<Figure size 640x480 with 1 Axes>"
      ]
     },
     "metadata": {},
     "output_type": "display_data"
    }
   ],
   "source": [
    "for metric_file_name in metrics:\n",
    "    \n",
    "    path_metric = os.path.join('multi_class_output', metric_file_name)\n",
    "    metric_file = pd.read_csv(path_metric)\n",
    "    \n",
    "    train_loss = metric_file['train_loss']\n",
    "    val_loss = metric_file['val_loss']\n",
    "    plt.plot(np.arange(len(train_loss)), train_loss, label=metric_file_name[:-12])\n",
    "    plt.plot(np.arange(len(val_loss)), val_loss, label=metric_file_name[:-12])\n",
    "    plt.legend()\n",
    "    plt.title('Loss')\n",
    "    plt.show()"
   ]
  },
  {
   "cell_type": "code",
   "execution_count": 61,
   "id": "453aaa0f-929b-40e1-9ff1-b942ad521006",
   "metadata": {},
   "outputs": [
    {
     "data": {
      "image/png": "[encoded data removed]",
      "text/plain": [
       "<Figure size 640x480 with 1 Axes>"
      ]
     },
     "metadata": {},
     "output_type": "display_data"
    }
   ],
   "source": [
    "for metric_file_name in metrics:\n",
    "    \n",
    "    path_metric = os.path.join('multi_class_output', metric_file_name)\n",
    "    metric_file = pd.read_csv(path_metric)\n",
    "    \n",
    "    val_accuracy = metric_file['val accuracy']\n",
    "    plt.plot(np.arange(len(val_accuracy)), val_accuracy, label=metric_file_name[:-4])\n",
    "    plt.legend()\n",
    "    plt.title('Accuracy')"
   ]
  },
  {
   "cell_type": "code",
   "execution_count": 7,
   "id": "54c41acb-a20b-4ea9-8bf4-0572f8bc0871",
   "metadata": {},
   "outputs": [],
   "source": [
    "from trainer import Trainer\n",
    "from data.multi_label_build_data import build_dataloader\n",
    "\n",
    "\n",
    "train_dataloader, test_dataloader, num_train, num_test, NUM_CLASS = build_dataloader(transfrom, BATCH_SIZE)\n",
    "criteriation=nn.CrossEntriopyLoss()"
   ]
  },
  {
   "cell_type": "code",
   "execution_count": 92,
   "id": "04bfe720-c63a-49ba-9415-477f648eac63",
   "metadata": {
    "tags": []
   },
   "outputs": [],
   "source": [
    "def eval_metrics(models, names, multi_label=False):\n",
    "    \n",
    "    models_metrics=[]\n",
    "    \n",
    "    for name, model in zip(names, models):\n",
    "        _, _, preds = Trainer(model, device, criteriation \n",
    "                              train_dataloader, test_dataloader, \n",
    "                              num_train, num_test, multi_label).val()\n",
    "        \n",
    "        if not multi_label:\n",
    "\n",
    "            accuracy = sklearn.metrics.accuracy_score(*preds)\n",
    "            precis_macro = sklearn.metrics.precision_score(*preds, average='macro')\n",
    "            precis_micro = sklearn.metrics.precision_score(*preds, average='micro')\n",
    "\n",
    "            recall_macro = sklearn.metrics.recall_score(*preds, average='macro')\n",
    "            recall_micro = sklearn.metrics.recall_score(*preds, average='micro')\n",
    "\n",
    "            f1_macro = sklearn.metrics.f1_score(*preds, average='macro')\n",
    "            f1_micro = sklearn.metrics.f1_score(*preds, average='micro')\n",
    "\n",
    "            models_metrics.append([name, accuracy, \n",
    "                                   precis_macro, precis_micro, \n",
    "                                   recall_macro, recall_micro,\n",
    "                                   f1_macro, f1_micro\n",
    "                                  ])\n",
    "            columns=['model', 'accuracy', 'precision (macro)', 'precision (micro)', \n",
    "                     'recall (macro)', 'recall (micro)', 'F1 (macro)', 'F1 (micro)']\n",
    "            \n",
    "            \n",
    "        else:\n",
    "            ex_r = sklearn.metrics.accuracy_score(*preds, normalize=True, sample_weight=None)\n",
    "            hamm = sklearn.metrics.accuracy_score(*preds, normalize=True, sample_weight=None)\n",
    "            Recall = sklearn.metrics.precision_score(*preds, y_pred=y_pred, average='samples') \n",
    "            Precision = sklearn.metrics.recall_score(*preds, average='samples')\n",
    "            f1 = sklearn.metrics.f1_score(*preds, average='samples')\n",
    "            models_metrics.append([name, ex_r, \n",
    "                                   hamm, Recall, \n",
    "                                   Precision, f1,\n",
    "                                  ])\n",
    "            \n",
    "            columns=['model', 'Exact Match Ratio', 'Hamming loss', 'Recall', 'Precision', 'F1']\n",
    "\n",
    "\n",
    "            \n",
    "\n",
    "    models_metrics = pd.DataFrame(models_metrics, columns=columns)                                                          ])\n",
    "    return models_metrics\n",
    "    \n",
    "    "
   ]
  },
  {
   "cell_type": "code",
   "execution_count": 89,
   "id": "8d503df2-bc81-40c0-b2eb-3ad572cdc671",
   "metadata": {},
   "outputs": [],
   "source": [
    "models = [resnet, resnet_modified, effnet, transformer]\n",
    "models_name = ['resnet', 'resnet_modified', 'effnet', 'transformer']"
   ]
  },
  {
   "cell_type": "code",
   "execution_count": 93,
   "id": "6f548706-5760-403f-9681-05b7d5ca6dd9",
   "metadata": {},
   "outputs": [
    {
     "data": {
      "text/html": [
       "<div>\n",
       "<style scoped>\n",
       "    .dataframe tbody tr th:only-of-type {\n",
       "        vertical-align: middle;\n",
       "    }\n",
       "\n",
       "    .dataframe tbody tr th {\n",
       "        vertical-align: top;\n",
       "    }\n",
       "\n",
       "    .dataframe thead th {\n",
       "        text-align: right;\n",
       "    }\n",
       "</style>\n",
       "<table border=\"1\" class=\"dataframe\">\n",
       "  <thead>\n",
       "    <tr style=\"text-align: right;\">\n",
       "      <th></th>\n",
       "      <th>model</th>\n",
       "      <th>accuracy</th>\n",
       "      <th>precision (macro)</th>\n",
       "      <th>precision (micro)</th>\n",
       "      <th>recall (macro)</th>\n",
       "      <th>recall (micro)</th>\n",
       "      <th>F1 (macro)</th>\n",
       "      <th>F1 (micro)</th>\n",
       "    </tr>\n",
       "  </thead>\n",
       "  <tbody>\n",
       "    <tr>\n",
       "      <th>0</th>\n",
       "      <td>resnet</td>\n",
       "      <td>0.257740</td>\n",
       "      <td>0.139652</td>\n",
       "      <td>0.257740</td>\n",
       "      <td>0.257164</td>\n",
       "      <td>0.257740</td>\n",
       "      <td>0.147490</td>\n",
       "      <td>0.257740</td>\n",
       "    </tr>\n",
       "    <tr>\n",
       "      <th>1</th>\n",
       "      <td>resnet_modified</td>\n",
       "      <td>0.891435</td>\n",
       "      <td>0.902690</td>\n",
       "      <td>0.891435</td>\n",
       "      <td>0.891526</td>\n",
       "      <td>0.891435</td>\n",
       "      <td>0.893276</td>\n",
       "      <td>0.891435</td>\n",
       "    </tr>\n",
       "    <tr>\n",
       "      <th>2</th>\n",
       "      <td>effnet</td>\n",
       "      <td>0.906313</td>\n",
       "      <td>0.906600</td>\n",
       "      <td>0.906313</td>\n",
       "      <td>0.906562</td>\n",
       "      <td>0.906313</td>\n",
       "      <td>0.905018</td>\n",
       "      <td>0.906313</td>\n",
       "    </tr>\n",
       "    <tr>\n",
       "      <th>3</th>\n",
       "      <td>transformer</td>\n",
       "      <td>0.805790</td>\n",
       "      <td>0.810547</td>\n",
       "      <td>0.805790</td>\n",
       "      <td>0.805905</td>\n",
       "      <td>0.805790</td>\n",
       "      <td>0.806751</td>\n",
       "      <td>0.805790</td>\n",
       "    </tr>\n",
       "  </tbody>\n",
       "</table>\n",
       "</div>"
      ],
      "text/plain": [
       "             model  accuracy  precision (macro)  precision (micro)  \\\n",
       "0           resnet  0.257740           0.139652           0.257740   \n",
       "1  resnet_modified  0.891435           0.902690           0.891435   \n",
       "2           effnet  0.906313           0.906600           0.906313   \n",
       "3      transformer  0.805790           0.810547           0.805790   \n",
       "\n",
       "   recall (macro)  recall (micro)  F1 (macro)  F1 (micro)  \n",
       "0        0.257164        0.257740    0.147490    0.257740  \n",
       "1        0.891526        0.891435    0.893276    0.891435  \n",
       "2        0.906562        0.906313    0.905018    0.906313  \n",
       "3        0.805905        0.805790    0.806751    0.805790  "
      ]
     },
     "execution_count": 93,
     "metadata": {},
     "output_type": "execute_result"
    }
   ],
   "source": [
    "eval_metrics(models, models_name, test_dataloader, device)"
   ]
  },
  {
   "cell_type": "markdown",
   "id": "96382bfd-31aa-4a51-864c-8b4c3505917f",
   "metadata": {},
   "source": [
    "### Multi-label problem"
   ]
  },
  {
   "cell_type": "markdown",
   "id": "8b571d1e-b64f-4890-8e7c-b79509639473",
   "metadata": {},
   "source": [
    "import pandas as pd"
   ]
  },
  {
   "cell_type": "code",
   "execution_count": 4,
   "id": "be5bc2ae-4021-4ccc-8685-26bb1a365abc",
   "metadata": {},
   "outputs": [
    {
     "name": "stderr",
     "output_type": "stream",
     "text": [
      "Downloading...\n",
      "From (uriginal): https://drive.google.com/uc?id=15aX9gKeSlGoUJBHAQGqkL5euq0kDKkwg\n",
      "From (redirected): https://drive.google.com/uc?id=15aX9gKeSlGoUJBHAQGqkL5euq0kDKkwg&confirm=t&uuid=95ea0f1c-7047-40b0-928f-b51b4caa8e91\n",
      "To: /home/jovyan/work/label_data.zip\n",
      "100%|██████████████████████████████████████████████████████████████████████████████| 4.51G/4.51G [01:58<00:00, 38.1MB/s]\n"
     ]
    }
   ],
   "source": [
    "# gdown.download(\"https://drive.google.com/file/d/15aX9gKeSlGoUJBHAQGqkL5euq0kDKkwg/view?usp=share_link\",\"./label_data.zip\", quiet=False, fuzzy=True)\n",
    "# !unzip -q ./label_data.zip"
   ]
  },
  {
   "cell_type": "markdown",
   "id": "722bbd58-83b5-4cd9-b7b4-95cc7dd575dc",
   "metadata": {},
   "source": [
    "data = pd.read_csv('sample_labels.csv')"
   ]
  },
  {
   "cell_type": "markdown",
   "id": "335d432a-a26f-452e-975a-3c7435ec2fd9",
   "metadata": {},
   "source": [
    "data['lables'] = data['Finding Labels'].str.split('|')"
   ]
  },
  {
   "cell_type": "markdown",
   "id": "8269bbf8-723e-41c5-a60c-52704dc442dd",
   "metadata": {},
   "source": [
    "labels = []\n",
    "for lable in data['lables'].values:\n",
    "    labels.extend(lable)   \n",
    "    \n",
    "labels = pd.DataFrame(labels, columns=['labels'])\n",
    "\n",
    "labels['labels'].hist(figsize=(20, 10))\n",
    "labels.value_counts()"
   ]
  },
  {
   "cell_type": "markdown",
   "id": "633ec4f5-c49c-4f44-8fef-4fb419db2aa9",
   "metadata": {},
   "source": [
    "data['Image Index'] = './sample/images/' + data['Image Index']"
   ]
  },
  {
   "cell_type": "markdown",
   "id": "70a5a100-2fad-4878-a441-d0c8cfe764a9",
   "metadata": {
    "tags": []
   },
   "source": [
    "chen = []\n",
    "for path_img in data['Image Index'].values:\n",
    "    img = Image.open(path_img)\n",
    "    chen.append(transforms.ToTensor()(img).shape)\n",
    "\n",
    "bad_img = data.loc[pd.DataFrame(chen)[0] > 1, 'Image Index'].values\n",
    "\n",
    "for path_img in bad_img:\n",
    "    img = plt.imread(path_img)\n",
    "    img = img[:, :, 0]\n",
    "    img = Image.fromarray(np.uint8(img * 255), 'L')\n",
    "    img.save(path_img,\"PNG\")\n"
   ]
  },
  {
   "cell_type": "markdown",
   "id": "19903fc4-3d72-4a7e-8870-477c70287d93",
   "metadata": {},
   "source": [
    "### Utils"
   ]
  },
  {
   "cell_type": "markdown",
   "id": "b8248f71-6d72-4c98-aac7-f37c9fcdb815",
   "metadata": {},
   "source": [
    "if not os.path.exists('multi_label_output'):\n",
    "    os.mkdir('multi_label_output')\n",
    "else:\n",
    "    print('multi_label_output exists')"
   ]
  },
  {
   "cell_type": "markdown",
   "id": "66d77eb0-daed-42e7-b0ea-af2c3ddcd317",
   "metadata": {},
   "source": [
    "class MultiDataset(Dataset):\n",
    "    def __init__(self, data, transform=None, bad_img=[]):\n",
    "        self.data = data\n",
    "        self.transform = transform\n",
    "        self.labels = ['Atelectasis', 'Cardiomegaly', 'Consolidation', 'Edema',\n",
    "                        'Effusion', 'Emphysema', 'Fibrosis', 'Hernia', 'Infiltration',\n",
    "                        'Mass', 'No Finding', 'Nodule', 'Pleural_Thickening', 'Pneumonia',\n",
    "                        'Pneumothorax']\n",
    "        \n",
    "        self.bad_img = bad_img\n",
    "        \n",
    "    def __getitem__(self, idx):\n",
    "        path_img = self.data.loc[idx, 'Image Index']\n",
    "        \n",
    "        label = self.data.loc[idx, 'lables']\n",
    "        label = [self.labels.index(_) for _ in label]\n",
    "        labels = np.zeros(len(self.labels))\n",
    "        labels[label] = 1\n",
    "        labels = torch.tensor(labels)\n",
    "        \n",
    "        \n",
    "        img = Image.open(path_img)\n",
    "        \n",
    "        if self.transform is not None:\n",
    "            img = self.transform(img)\n",
    "            \n",
    "        return img, labels.squeeze(0).float()\n",
    "    \n",
    "    def __len__(self):\n",
    "        return self.data.shape[0]"
   ]
  },
  {
   "cell_type": "markdown",
   "id": "79cb7482-05ba-4984-9ab1-d7abda32a652",
   "metadata": {},
   "source": [
    "# change\n",
    "train = data.loc[:int(0.8*data.shape[0]), :]\n",
    "test = data.loc[int(0.8*data.shape[0])+1:, :].reset_index(drop=True)"
   ]
  },
  {
   "cell_type": "markdown",
   "id": "69e27adf-c4ed-49de-9569-ac3d572230a8",
   "metadata": {},
   "source": [
    "labels = []\n",
    "for lable in train['lables'].values:\n",
    "    labels.extend(lable)   \n",
    "    \n",
    "labels = pd.DataFrame(labels, columns=['labels'])\n",
    "\n",
    "labels['labels'].hist(figsize=(20, 10), bins=15)\n",
    "labels.value_counts()"
   ]
  },
  {
   "cell_type": "markdown",
   "id": "f8136f92-1670-45ee-9e76-6b6b5b9cb087",
   "metadata": {},
   "source": [
    "testlabels['labels'].hist(figsize=(20, 10), bins=15)\n"
   ]
  },
  {
   "cell_type": "markdown",
   "id": "51d97ee6-b2ff-4d39-954b-45f1f8aa30c8",
   "metadata": {},
   "source": [
    "testlabels = []\n",
    "for lable in test['lables'].values:\n",
    "    testlabels.extend(lable)   \n",
    "    \n",
    "testlabels = pd.DataFrame(testlabels, columns=['labels'])\n",
    "\n",
    "testlabels['labels'].hist(figsize=(20, 10))\n",
    "testlabels.value_counts()"
   ]
  },
  {
   "cell_type": "markdown",
   "id": "001bb9b8-347f-4657-84cd-6892e2df28da",
   "metadata": {},
   "source": [
    "BATCH_SIZE=8\n",
    "\n",
    "transfrom = transforms.Compose([\n",
    "    transforms.Resize(256),\n",
    "    transforms.RandomRotation(30),\n",
    "    transforms.ToTensor(),\n",
    "    transforms.Normalize(0.5, 0.5)\n",
    "])\n",
    "\n",
    "trainset = MultiDataset(train, transfrom)\n",
    "train_dataloader = DataLoader(trainset, batch_size=BATCH_SIZE, shuffle=True)\n",
    "\n",
    "testset = MultiDataset(test, transfrom)\n",
    "test_dataloader = DataLoader(testset, batch_size=1, shuffle=False)"
   ]
  },
  {
   "cell_type": "markdown",
   "id": "afd74a9e-00a1-4f1a-833f-ad1e6f38fb06",
   "metadata": {
    "jupyter": {
     "outputs_hidden": true
    },
    "tags": []
   },
   "source": [
    "i=0\n",
    "for (img, lab) in train_dataloader:\n",
    "    print(img.shape)\n",
    "    plt.imshow(img[0].permute(1, 2, 0))\n",
    "    plt.title(str(lab))\n",
    "    plt.show()\n",
    "    \n",
    "    if i > 3:\n",
    "        break\n",
    "    i+=1\n",
    "    "
   ]
  },
  {
   "cell_type": "markdown",
   "id": "a605464d-a456-43b1-86e4-246a46dfead4",
   "metadata": {},
   "source": [
    "num_class = len(['Atelectasis', 'Cardiomegaly', 'Consolidation', 'Edema',\n",
    "                        'Effusion', 'Emphysema', 'Fibrosis', 'Hernia', 'Infiltration',\n",
    "                        'Mass', 'No Finding', 'Nodule', 'Pleural_Thickening', 'Pneumonia',\n",
    "                        'Pneumothorax'])"
   ]
  },
  {
   "cell_type": "markdown",
   "id": "118edf2c-36cf-432c-ae8f-1c376defcd8a",
   "metadata": {},
   "source": [
    "!nvidia-smi"
   ]
  },
  {
   "cell_type": "markdown",
   "id": "68dba1ce-26ea-433a-86b2-64906ac383fe",
   "metadata": {},
   "source": [
    "os.environ['CUDA_VISIABLE_DEVICES'] = '0'"
   ]
  },
  {
   "cell_type": "markdown",
   "id": "e7d75bb3-8500-4cfc-9fe9-c5b686b1c7d4",
   "metadata": {},
   "source": [
    "device = torch.device('cuda')"
   ]
  },
  {
   "cell_type": "markdown",
   "id": "776bbfb2-8ae9-49ba-82b4-b8b0b01b2aa4",
   "metadata": {},
   "source": [
    "### Losses"
   ]
  },
  {
   "cell_type": "markdown",
   "id": "83242cb1-d11f-4839-b288-9006811c41c3",
   "metadata": {},
   "source": [
    "criteriation = nn.BCELoss()"
   ]
  },
  {
   "cell_type": "markdown",
   "id": "986d4e49-1985-40e8-9cf0-723ce0e621d8",
   "metadata": {},
   "source": [
    "import torch.nn.functional as F\n",
    "import torch.nn as nn\n",
    "\n",
    "class FocalLoss(nn.Module):\n",
    "    def __init__(self, alpha=1.0, gamma=2.0):\n",
    "        super(FocalLoss, self).__init__()\n",
    "        self.alpha = alpha\n",
    "        self.gamma = gamma\n",
    "\n",
    "    def forward(self, inputs, targets):\n",
    "        bce_loss = F.cross_entropy(inputs, targets)\n",
    "        loss = self.alpha * (1 - torch.exp(-bce_loss)) ** self.gamma * bce_loss\n",
    "        return loss"
   ]
  },
  {
   "cell_type": "markdown",
   "id": "b75de5a5-681b-405e-bb0d-bfcb11e818f6",
   "metadata": {},
   "source": [
    "criteriation = FocalLoss()"
   ]
  },
  {
   "cell_type": "markdown",
   "id": "5130b94b-97fc-44dd-9f5f-83dc1c9faf11",
   "metadata": {},
   "source": [
    "### Resnet"
   ]
  },
  {
   "cell_type": "code",
   "execution_count": 79,
   "id": "cbf6b66d-d55a-4166-ad00-ef5a24d2bbbd",
   "metadata": {},
   "outputs": [],
   "source": [
    "resnet = torchvision.models.resnet34(pretrained=False, num_classes=num_class)\n",
    "resnet.conv1 = nn.Conv2d(1, 64, kernel_size=(7, 7), stride=(2, 2), padding=(3, 3), bias=False)"
   ]
  },
  {
   "cell_type": "code",
   "execution_count": 80,
   "id": "669e7c99-9460-4f4c-b046-5b5e78198eda",
   "metadata": {},
   "outputs": [],
   "source": [
    "resnet = resnet.to(device)"
   ]
  },
  {
   "cell_type": "code",
   "execution_count": 81,
   "id": "37692cc8-7a0a-4ae0-9ca3-bb5d9aaf97fe",
   "metadata": {},
   "outputs": [],
   "source": [
    "optimizer = torch.optim.Adam(resnet.parameters(), lr=1e-5)"
   ]
  },
  {
   "cell_type": "code",
   "execution_count": 82,
   "id": "9b145848-ebbd-405c-9c3b-8ce626de1cb6",
   "metadata": {
    "tags": []
   },
   "outputs": [
    {
     "name": "stdout",
     "output_type": "stream",
     "text": [
      "[1]/[10] Epoch starts\n",
      "\t Batch train loss: 2.7625088691711426, accuracy 0.17936646686646684\n",
      "\t Batch train loss: 2.191222667694092, accuracy 0.80625\n",
      "\t Batch train loss: 3.8024790287017822, accuracy 0.7285183566433566\n",
      "[1]/[10] End epoch: train loss: 2.725007418087095, val loss: 2.6042918208238803\n",
      "\t Epoch train accuracy: 0.6429346674321593, val accuracy: 0.6819039915382467\n",
      "\n",
      "[2]/[10] Epoch starts\n",
      "\t Batch train loss: 2.3805997371673584, accuracy 0.5551136363636363\n",
      "\t Batch train loss: 4.2320451736450195, accuracy 0.6959945436507936\n",
      "\t Batch train loss: 3.271646499633789, accuracy 0.850761217948718\n",
      "[2]/[10] End epoch: train loss: 2.575718930174276, val loss: 2.572468086930921\n",
      "\t Epoch train accuracy: 0.6892495620218593, val accuracy: 0.6438088423536683\n",
      "\n",
      "[3]/[10] Epoch starts\n",
      "\t Batch train loss: 2.1712095737457275, accuracy 0.7457386363636364\n",
      "\t Batch train loss: 3.5367469787597656, accuracy 0.6618303571428572\n",
      "\t Batch train loss: 3.7863380908966064, accuracy 0.48470256595256594\n",
      "[3]/[10] End epoch: train loss: 2.553910228374145, val loss: 2.5422750835861083\n",
      "\t Epoch train accuracy: 0.6827256351972072, val accuracy: 0.6837542975410951\n",
      "\n",
      "[4]/[10] Epoch starts\n",
      "\t Batch train loss: 3.5271310806274414, accuracy 0.6313988095238096\n",
      "\t Batch train loss: 3.074019193649292, accuracy 0.8851190476190476\n",
      "\t Batch train loss: 1.7508407831192017, accuracy 0.6926136363636364\n",
      "[4]/[10] End epoch: train loss: 2.5386042132159674, val loss: 2.526580493328935\n",
      "\t Epoch train accuracy: 0.6883638537852593, val accuracy: 0.678699697979359\n",
      "\n",
      "[5]/[10] Epoch starts\n",
      "\t Batch train loss: 2.1722702980041504, accuracy 0.7166666666666667\n",
      "\t Batch train loss: 1.7508525848388672, accuracy 0.8012820512820513\n",
      "\t Batch train loss: 2.6302335262298584, accuracy 0.6760416666666667\n",
      "[5]/[10] End epoch: train loss: 2.5281729678512286, val loss: 2.5322056338789207\n",
      "\t Epoch train accuracy: 0.6861275874812663, val accuracy: 0.6666903480518556\n",
      "\n",
      "[6]/[10] Epoch starts\n",
      "\t Batch train loss: 2.0922486782073975, accuracy 0.6979166666666666\n",
      "\t Batch train loss: 2.2070984840393066, accuracy 0.7002403846153846\n",
      "\t Batch train loss: 3.6277170181274414, accuracy 0.6706349206349206\n",
      "[6]/[10] End epoch: train loss: 2.525617913338652, val loss: 2.5379277255043826\n",
      "\t Epoch train accuracy: 0.6903013773253462, val accuracy: 0.6502872856073123\n",
      "\n",
      "[7]/[10] Epoch starts\n",
      "\t Batch train loss: 3.3084394931793213, accuracy 0.7656746031746031\n",
      "\t Batch train loss: 2.6534082889556885, accuracy 0.6775793650793651\n",
      "\t Batch train loss: 2.8080735206604004, accuracy 0.5485042735042734\n",
      "[7]/[10] End epoch: train loss: 2.5226141852014172, val loss: 2.5167299751508034\n",
      "\t Epoch train accuracy: 0.6896808245328312, val accuracy: 0.6832736550956889\n",
      "\n",
      "[8]/[10] Epoch starts\n",
      "\t Batch train loss: 2.0291788578033447, accuracy 0.5014430014430015\n",
      "\t Batch train loss: 2.335310459136963, accuracy 0.8767361111111112\n",
      "\t Batch train loss: 1.7345353364944458, accuracy 0.7229166666666667\n",
      "[8]/[10] End epoch: train loss: 2.517886377417523, val loss: 2.522145782593209\n",
      "\t Epoch train accuracy: 0.6898113549577957, val accuracy: 0.6626585790724951\n",
      "\n",
      "[9]/[10] Epoch starts\n",
      "\t Batch train loss: 1.8822191953659058, accuracy 0.603125\n",
      "\t Batch train loss: 1.7454978227615356, accuracy 0.6916666666666667\n",
      "\t Batch train loss: 1.5845258235931396, accuracy 0.9\n",
      "[9]/[10] End epoch: train loss: 2.516171159473151, val loss: 2.514919281324885\n",
      "\t Epoch train accuracy: 0.6907538567898102, val accuracy: 0.6782036718031366\n",
      "\n",
      "[10]/[10] Epoch starts\n",
      "\t Batch train loss: 2.1996965408325195, accuracy 0.6599702380952381\n",
      "\t Batch train loss: 2.4786148071289062, accuracy 0.6304563492063492\n",
      "\t Batch train loss: 1.4513827562332153, accuracy 0.9375\n",
      "[10]/[10] End epoch: train loss: 2.513861826244937, val loss: 2.516178848486091\n",
      "\t Epoch train accuracy: 0.6924025753242578, val accuracy: 0.6635791608695266\n",
      "\n"
     ]
    }
   ],
   "source": [
    "training(resnet, train_dataloader, test_dataloader, \n",
    "         device, 10, optimizer,\n",
    "         path='multi_label_output/resnet.pt',\n",
    "         multi_label=True\n",
    "        )"
   ]
  },
  {
   "cell_type": "markdown",
   "id": "deabc774-c67d-4630-8bc3-9a63baf61e4b",
   "metadata": {},
   "source": [
    "### ResNet modified"
   ]
  },
  {
   "cell_type": "code",
   "execution_count": 83,
   "id": "05582fea-a988-407d-9685-365bf00f22cc",
   "metadata": {},
   "outputs": [],
   "source": [
    "resnet_modified = torchvision.models.resnet34(pretrained=False, num_classes=num_class)"
   ]
  },
  {
   "cell_type": "code",
   "execution_count": 84,
   "id": "2aa21de6-9e6a-4e5e-a78d-fc420023e3e6",
   "metadata": {},
   "outputs": [],
   "source": [
    "resnet_modified.conv1 = torch.nn.Conv2d(1, 64, \n",
    "                                        kernel_size=(3, 3), \n",
    "                                        stride=(1, 1), \n",
    "                                        padding=(1, 1), \n",
    "                                        bias=False)\n",
    "\n",
    "resnet_modified.maxpool = torch.nn.Identity()\n",
    "resnet_modified = resnet_modified.to(device)"
   ]
  },
  {
   "cell_type": "code",
   "execution_count": 85,
   "id": "fb75931b-cbb5-422e-a9cb-ce188d321c69",
   "metadata": {},
   "outputs": [],
   "source": [
    "optimizer = torch.optim.Adam(resnet_modified.parameters(), lr=1e-5)"
   ]
  },
  {
   "cell_type": "code",
   "execution_count": 86,
   "id": "8eaf342b-195a-41bb-8db0-de10b432c7d8",
   "metadata": {
    "tags": []
   },
   "outputs": [
    {
     "name": "stdout",
     "output_type": "stream",
     "text": [
      "[1]/[10] Epoch starts\n",
      "\t Batch train loss: 2.3593122959136963, accuracy 0.18511904761904763\n",
      "\t Batch train loss: 3.9634599685668945, accuracy 0.5624350649350649\n",
      "\t Batch train loss: 2.4152369499206543, accuracy 0.775\n",
      "[1]/[10] End epoch: train loss: 2.6619902515624014, val loss: 2.584131169276616\n",
      "\t Epoch train accuracy: 0.6670181112779856, val accuracy: 0.6823532155557133\n",
      "\n",
      "[2]/[10] Epoch starts\n",
      "\t Batch train loss: 2.712862968444824, accuracy 0.5604166666666666\n",
      "\t Batch train loss: 3.8412115573883057, accuracy 0.5768353174603174\n",
      "\t Batch train loss: 2.5749313831329346, accuracy 0.49434523809523806\n",
      "[2]/[10] End epoch: train loss: 2.5607445260752804, val loss: 2.55565728501057\n",
      "\t Epoch train accuracy: 0.6912752752503107, val accuracy: 0.6834964947910979\n",
      "\n",
      "[3]/[10] Epoch starts\n",
      "\t Batch train loss: 2.8372914791107178, accuracy 0.570486111111111\n",
      "\t Batch train loss: 5.342743396759033, accuracy 0.672871027781742\n",
      "\t Batch train loss: 2.1118133068084717, accuracy 0.84375\n",
      "[3]/[10] End epoch: train loss: 2.5435055020926653, val loss: 2.5422817450565063\n",
      "\t Epoch train accuracy: 0.6935009100556561, val accuracy: 0.6812779039195185\n",
      "\n",
      "[4]/[10] Epoch starts\n",
      "\t Batch train loss: 1.605324625968933, accuracy 0.7708333333333333\n",
      "\t Batch train loss: 2.3078229427337646, accuracy 0.7220695970695972\n",
      "\t Batch train loss: 2.458731174468994, accuracy 0.36979166666666663\n",
      "[4]/[10] End epoch: train loss: 2.5356767203895543, val loss: 2.5500688839979624\n",
      "\t Epoch train accuracy: 0.6927646929922365, val accuracy: 0.682999608099965\n",
      "\n",
      "[5]/[10] Epoch starts\n",
      "\t Batch train loss: 3.2038166522979736, accuracy 0.5727182539682539\n",
      "\t Batch train loss: 4.719053745269775, accuracy 0.4895260989010989\n",
      "\t Batch train loss: 1.597773790359497, accuracy 0.890625\n",
      "[5]/[10] End epoch: train loss: 2.529704821388857, val loss: 2.5344853278890875\n",
      "\t Epoch train accuracy: 0.6939511649186761, val accuracy: 0.6830578361242947\n",
      "\n",
      "[6]/[10] Epoch starts\n",
      "\t Batch train loss: 2.1609840393066406, accuracy 0.5770833333333333\n",
      "\t Batch train loss: 1.673761248588562, accuracy 0.7447916666666666\n",
      "\t Batch train loss: 1.7815495729446411, accuracy 0.632638888888889\n",
      "[6]/[10] End epoch: train loss: 2.528268395884247, val loss: 2.530958510529878\n",
      "\t Epoch train accuracy: 0.6940799173987582, val accuracy: 0.6835655073277731\n",
      "\n",
      "[7]/[10] Epoch starts\n",
      "\t Batch train loss: 2.417717933654785, accuracy 0.7555555555555555\n",
      "\t Batch train loss: 2.6439123153686523, accuracy 0.6517857142857142\n",
      "\t Batch train loss: 4.11310338973999, accuracy 0.4748214285714286\n",
      "[7]/[10] End epoch: train loss: 2.52608799886544, val loss: 2.525328732196185\n",
      "\t Epoch train accuracy: 0.694211455816927, val accuracy: 0.6829153517378316\n",
      "\n",
      "[8]/[10] Epoch starts\n",
      "\t Batch train loss: 2.5192694664001465, accuracy 0.7586805555555556\n",
      "\t Batch train loss: 2.4846012592315674, accuracy 0.5258356227106227\n",
      "\t Batch train loss: 2.0169599056243896, accuracy 0.41369047619047616\n",
      "[8]/[10] End epoch: train loss: 2.523231990972623, val loss: 2.5208774710424664\n",
      "\t Epoch train accuracy: 0.6946468576635803, val accuracy: 0.6834020794268341\n",
      "\n",
      "[9]/[10] Epoch starts\n",
      "\t Batch train loss: 1.593638300895691, accuracy 0.8854166666666666\n",
      "\t Batch train loss: 2.0683727264404297, accuracy 0.8169642857142857\n",
      "\t Batch train loss: 2.500096321105957, accuracy 0.8025793650793651\n",
      "[9]/[10] End epoch: train loss: 2.5224401065737108, val loss: 2.5203054002307548\n",
      "\t Epoch train accuracy: 0.6941677036650366, val accuracy: 0.6831544875813386\n",
      "\n",
      "[10]/[10] Epoch starts\n",
      "\t Batch train loss: 2.1465494632720947, accuracy 0.7353219696969697\n",
      "\t Batch train loss: 2.3468170166015625, accuracy 0.8566017316017316\n",
      "\t Batch train loss: 1.7304096221923828, accuracy 0.7991071428571428\n",
      "[10]/[10] End epoch: train loss: 2.5219674376208117, val loss: 2.52235546514033\n",
      "\t Epoch train accuracy: 0.6938668073195464, val accuracy: 0.6840571360363955\n",
      "\n"
     ]
    }
   ],
   "source": [
    "training(resnet_modified, train_dataloader, test_dataloader, \n",
    "         device, 10, optimizer,\n",
    "         path='multi_label_output/resnet_modified.pt',\n",
    "         multi_label=True\n",
    "        )"
   ]
  },
  {
   "cell_type": "markdown",
   "id": "8737c320-caa7-4d93-9fe0-ae2c8f6c1b4d",
   "metadata": {},
   "source": [
    "### EfficiencyNet"
   ]
  },
  {
   "cell_type": "code",
   "execution_count": 87,
   "id": "a7f5e7dd-e2ad-4061-8aff-196eebc9b57c",
   "metadata": {},
   "outputs": [],
   "source": [
    "effnet = torchvision.models.efficientnet_b0(pretrained=False, num_classes=num_class)\n",
    "effnet.features[0][0] = nn.Conv2d(1, 32, \n",
    "                                  kernel_size=(3, 3), \n",
    "                                  stride=(2, 2), \n",
    "                                  padding=(1, 1), \n",
    "                                  bias=False)\n",
    "effnet = effnet.to(device)"
   ]
  },
  {
   "cell_type": "code",
   "execution_count": 88,
   "id": "30640f13-85cb-4188-af35-232e3378c4b0",
   "metadata": {},
   "outputs": [],
   "source": [
    "optimizer = torch.optim.Adam(effnet.parameters(), lr=1e-5)"
   ]
  },
  {
   "cell_type": "code",
   "execution_count": 89,
   "id": "d91fd72f-c9a8-40bf-ad6f-b38a4c2f6824",
   "metadata": {
    "tags": []
   },
   "outputs": [
    {
     "name": "stdout",
     "output_type": "stream",
     "text": [
      "[1]/[10] Epoch starts\n",
      "\t Batch train loss: 3.2131295204162598, accuracy 0.227918956043956\n",
      "\t Batch train loss: 4.843538284301758, accuracy 0.37846771284271286\n",
      "\t Batch train loss: 3.4795894622802734, accuracy 0.2202876984126984\n",
      "[1]/[10] End epoch: train loss: 2.9584787274682802, val loss: 2.7612576998311638\n",
      "\t Epoch train accuracy: 0.40561113193136583, val accuracy: 0.623866187955171\n",
      "\n",
      "[2]/[10] Epoch starts\n",
      "\t Batch train loss: 2.913959264755249, accuracy 0.4612689393939394\n",
      "\t Batch train loss: 3.279076099395752, accuracy 0.4264430014430014\n",
      "\t Batch train loss: 2.899070978164673, accuracy 0.6256944444444446\n",
      "[2]/[10] End epoch: train loss: 2.7988112973263166, val loss: 2.6640624388533976\n",
      "\t Epoch train accuracy: 0.5249383559348526, val accuracy: 0.6541935695057908\n",
      "\n",
      "[3]/[10] Epoch starts\n",
      "\t Batch train loss: 2.4292287826538086, accuracy 0.40812728937728937\n",
      "\t Batch train loss: 3.187927722930908, accuracy 0.680952380952381\n",
      "\t Batch train loss: 2.4603471755981445, accuracy 0.5129960317460318\n",
      "[3]/[10] End epoch: train loss: 2.7211095724881957, val loss: 2.628861998469568\n",
      "\t Epoch train accuracy: 0.5726229202895878, val accuracy: 0.6678206828853572\n",
      "\n",
      "[4]/[10] Epoch starts\n",
      "\t Batch train loss: 2.2901995182037354, accuracy 0.7166666666666667\n",
      "\t Batch train loss: 1.8879703283309937, accuracy 0.5656249999999999\n",
      "\t Batch train loss: 3.8545761108398438, accuracy 0.45570436507936507\n",
      "[4]/[10] End epoch: train loss: 2.680838296937039, val loss: 2.623189933697737\n",
      "\t Epoch train accuracy: 0.5894350069497784, val accuracy: 0.6138958104290397\n",
      "\n",
      "[5]/[10] Epoch starts\n",
      "\t Batch train loss: 1.8766491413116455, accuracy 0.6207386363636364\n",
      "\t Batch train loss: 1.5775507688522339, accuracy 0.890625\n",
      "\t Batch train loss: 4.053768634796143, accuracy 0.49557017057017055\n",
      "[5]/[10] End epoch: train loss: 2.649194569093328, val loss: 2.609115366633719\n",
      "\t Epoch train accuracy: 0.595777987300284, val accuracy: 0.6263031594153361\n",
      "\n",
      "[6]/[10] Epoch starts\n",
      "\t Batch train loss: 2.2187957763671875, accuracy 0.6459821428571428\n",
      "\t Batch train loss: 1.841760516166687, accuracy 0.6814903846153846\n",
      "\t Batch train loss: 2.6334228515625, accuracy 0.7127403846153846\n",
      "[6]/[10] End epoch: train loss: 2.6314715221706972, val loss: 2.5890849952076715\n",
      "\t Epoch train accuracy: 0.6046027539494659, val accuracy: 0.6475038326064195\n",
      "\n",
      "[7]/[10] Epoch starts\n",
      "\t Batch train loss: 2.9213011264801025, accuracy 0.7045183982683982\n",
      "\t Batch train loss: 2.6218321323394775, accuracy 0.5518939393939395\n",
      "\t Batch train loss: 2.359445571899414, accuracy 0.5741071428571429\n",
      "[7]/[10] End epoch: train loss: 2.622063404952935, val loss: 2.5883385997920243\n",
      "\t Epoch train accuracy: 0.6128180377779041, val accuracy: 0.6457103166681668\n",
      "\n",
      "[8]/[10] Epoch starts\n",
      "\t Batch train loss: 2.201294183731079, accuracy 0.6641414141414141\n",
      "\t Batch train loss: 2.1671972274780273, accuracy 0.6510416666666667\n",
      "\t Batch train loss: 2.680678129196167, accuracy 0.6368055555555556\n",
      "[8]/[10] End epoch: train loss: 2.6195775122945526, val loss: 2.569071684428138\n",
      "\t Epoch train accuracy: 0.6175174488276494, val accuracy: 0.6588329266629891\n",
      "\n",
      "[9]/[10] Epoch starts\n",
      "\t Batch train loss: 3.0969278812408447, accuracy 0.5422619047619047\n",
      "\t Batch train loss: 2.510772466659546, accuracy 0.6401041666666667\n",
      "\t Batch train loss: 3.746882677078247, accuracy 0.4102227633477633\n",
      "[9]/[10] End epoch: train loss: 2.6092790457981754, val loss: 2.5627863492208545\n",
      "\t Epoch train accuracy: 0.6209884835911671, val accuracy: 0.6708144862538262\n",
      "\n",
      "[10]/[10] Epoch starts\n",
      "\t Batch train loss: 2.8029613494873047, accuracy 0.5454861111111111\n",
      "\t Batch train loss: 3.5045835971832275, accuracy 0.4722222222222222\n",
      "\t Batch train loss: 2.0460808277130127, accuracy 0.7430555555555556\n",
      "[10]/[10] End epoch: train loss: 2.590356268186367, val loss: 2.56131095826679\n",
      "\t Epoch train accuracy: 0.6265320050290588, val accuracy: 0.6471249752081599\n",
      "\n"
     ]
    }
   ],
   "source": [
    "training(effnet, train_dataloader, test_dataloader, \n",
    "         device, 10, optimizer,\n",
    "         path='multi_label_output/effnet.pt',\n",
    "         multi_label=True\n",
    "        )"
   ]
  },
  {
   "cell_type": "markdown",
   "id": "e099f318-9f03-422c-88e3-48e1208dd0c6",
   "metadata": {},
   "source": [
    "### Trnasformer"
   ]
  },
  {
   "cell_type": "code",
   "execution_count": 108,
   "id": "89b576ad-0e1a-48f2-8910-b6fce7592693",
   "metadata": {},
   "outputs": [],
   "source": [
    "BATCH_SIZE=4\n",
    "\n",
    "transfrom = transforms.Compose([\n",
    "    transforms.Resize(256),\n",
    "    transforms.RandomRotation(30),\n",
    "    transforms.ToTensor(),\n",
    "    transforms.Normalize(0.5, 0.5)\n",
    "])\n",
    "\n",
    "trainset = MultiDataset(train, transfrom)\n",
    "train_dataloader = DataLoader(trainset, batch_size=BATCH_SIZE, shuffle=True)\n",
    "\n",
    "testset = MultiDataset(test, transfrom)\n",
    "test_dataloader = DataLoader(testset, batch_size=1, shuffle=False)"
   ]
  },
  {
   "cell_type": "code",
   "execution_count": 109,
   "id": "08d83dcc-dafc-4059-96d5-03e1976d4f04",
   "metadata": {},
   "outputs": [],
   "source": [
    "from vit import Transformer"
   ]
  },
  {
   "cell_type": "code",
   "execution_count": 111,
   "id": "545bf83f-8131-48c2-a42e-461241cab633",
   "metadata": {},
   "outputs": [],
   "source": [
    "transformer = Transformer(img_size=(256, 256),\n",
    "                          patch_size=(8, 8),\n",
    "                          in_channels=1,\n",
    "                          n_classes=num_class,\n",
    "                          embed_dim=128,\n",
    "                          depth=6,\n",
    "                          n_heads=16,\n",
    "                          mlp_ratio=4.,\n",
    "                          qkv_bias=True,\n",
    "                          p=0.3,\n",
    "                          attn_p=0.3\n",
    "                         )"
   ]
  },
  {
   "cell_type": "code",
   "execution_count": 112,
   "id": "08bac1d1-b6b4-435f-8d87-9c5f21f36819",
   "metadata": {},
   "outputs": [],
   "source": [
    "transformer = transformer.to(device)"
   ]
  },
  {
   "cell_type": "code",
   "execution_count": 113,
   "id": "42fca761-b6ec-4bb5-a15e-a1335f69b20a",
   "metadata": {},
   "outputs": [],
   "source": [
    "optimizer = torch.optim.Adam(transformer.parameters(), lr=1e-5)"
   ]
  },
  {
   "cell_type": "code",
   "execution_count": 114,
   "id": "fe54a0c9-f461-4299-b9eb-27c524da78f6",
   "metadata": {},
   "outputs": [
    {
     "name": "stdout",
     "output_type": "stream",
     "text": [
      "[1]/[20] Epoch starts\n"
     ]
    },
    {
     "ename": "OutOfMemoryError",
     "evalue": "CUDA out of memory. Tried to allocate 226.00 MiB (GPU 0; 23.69 GiB total capacity; 21.34 GiB already allocated; 139.81 MiB free; 21.53 GiB reserved in total by PyTorch) If reserved memory is >> allocated memory try setting max_split_size_mb to avoid fragmentation.  See documentation for Memory Management and PYTORCH_CUDA_ALLOC_CONF",
     "output_type": "error",
     "traceback": [
      "\u001b[0;31m---------------------------------------------------------------------------\u001b[0m",
      "\u001b[0;31mOutOfMemoryError\u001b[0m                          Traceback (most recent call last)",
      "Cell \u001b[0;32mIn[114], line 1\u001b[0m\n\u001b[0;32m----> 1\u001b[0m \u001b[43mtraining\u001b[49m\u001b[43m(\u001b[49m\u001b[43mtransformer\u001b[49m\u001b[43m,\u001b[49m\u001b[43m \u001b[49m\u001b[43mtrain_dataloader\u001b[49m\u001b[43m,\u001b[49m\u001b[43m \u001b[49m\u001b[43mtest_dataloader\u001b[49m\u001b[43m,\u001b[49m\u001b[43m \u001b[49m\n\u001b[1;32m      2\u001b[0m \u001b[43m         \u001b[49m\u001b[43mdevice\u001b[49m\u001b[43m,\u001b[49m\u001b[43m \u001b[49m\u001b[38;5;241;43m20\u001b[39;49m\u001b[43m,\u001b[49m\u001b[43m \u001b[49m\u001b[43moptimizer\u001b[49m\u001b[43m,\u001b[49m\n\u001b[1;32m      3\u001b[0m \u001b[43m         \u001b[49m\u001b[43mpath\u001b[49m\u001b[38;5;241;43m=\u001b[39;49m\u001b[38;5;124;43m'\u001b[39;49m\u001b[38;5;124;43mmulti_label_output/transformer.pt\u001b[39;49m\u001b[38;5;124;43m'\u001b[39;49m\u001b[43m,\u001b[49m\n\u001b[1;32m      4\u001b[0m \u001b[43m         \u001b[49m\u001b[43mmulti_label\u001b[49m\u001b[38;5;241;43m=\u001b[39;49m\u001b[38;5;28;43;01mTrue\u001b[39;49;00m\n\u001b[1;32m      5\u001b[0m \u001b[43m        \u001b[49m\u001b[43m)\u001b[49m\n",
      "Cell \u001b[0;32mIn[55], line 20\u001b[0m, in \u001b[0;36mtraining\u001b[0;34m(model, trainloader, valloader, device, epochs, optimizer, start, path, multi_label)\u001b[0m\n\u001b[1;32m     17\u001b[0m imgs, labels \u001b[38;5;241m=\u001b[39m batch\n\u001b[1;32m     18\u001b[0m imgs, labels \u001b[38;5;241m=\u001b[39m imgs\u001b[38;5;241m.\u001b[39mto(device), labels\u001b[38;5;241m.\u001b[39mto(device)\n\u001b[0;32m---> 20\u001b[0m outputs \u001b[38;5;241m=\u001b[39m \u001b[43mmodel\u001b[49m\u001b[43m(\u001b[49m\u001b[43mimgs\u001b[49m\u001b[43m)\u001b[49m\n\u001b[1;32m     22\u001b[0m \u001b[38;5;28;01mif\u001b[39;00m multi_label:\n\u001b[1;32m     23\u001b[0m     outputs \u001b[38;5;241m=\u001b[39m torch\u001b[38;5;241m.\u001b[39msigmoid(outputs)\n",
      "File \u001b[0;32m/opt/conda/lib/python3.10/site-packages/torch/nn/modules/module.py:1501\u001b[0m, in \u001b[0;36mModule._call_impl\u001b[0;34m(self, *args, **kwargs)\u001b[0m\n\u001b[1;32m   1496\u001b[0m \u001b[38;5;66;03m# If we don't have any hooks, we want to skip the rest of the logic in\u001b[39;00m\n\u001b[1;32m   1497\u001b[0m \u001b[38;5;66;03m# this function, and just call forward.\u001b[39;00m\n\u001b[1;32m   1498\u001b[0m \u001b[38;5;28;01mif\u001b[39;00m \u001b[38;5;129;01mnot\u001b[39;00m (\u001b[38;5;28mself\u001b[39m\u001b[38;5;241m.\u001b[39m_backward_hooks \u001b[38;5;129;01mor\u001b[39;00m \u001b[38;5;28mself\u001b[39m\u001b[38;5;241m.\u001b[39m_backward_pre_hooks \u001b[38;5;129;01mor\u001b[39;00m \u001b[38;5;28mself\u001b[39m\u001b[38;5;241m.\u001b[39m_forward_hooks \u001b[38;5;129;01mor\u001b[39;00m \u001b[38;5;28mself\u001b[39m\u001b[38;5;241m.\u001b[39m_forward_pre_hooks\n\u001b[1;32m   1499\u001b[0m         \u001b[38;5;129;01mor\u001b[39;00m _global_backward_pre_hooks \u001b[38;5;129;01mor\u001b[39;00m _global_backward_hooks\n\u001b[1;32m   1500\u001b[0m         \u001b[38;5;129;01mor\u001b[39;00m _global_forward_hooks \u001b[38;5;129;01mor\u001b[39;00m _global_forward_pre_hooks):\n\u001b[0;32m-> 1501\u001b[0m     \u001b[38;5;28;01mreturn\u001b[39;00m \u001b[43mforward_call\u001b[49m\u001b[43m(\u001b[49m\u001b[38;5;241;43m*\u001b[39;49m\u001b[43margs\u001b[49m\u001b[43m,\u001b[49m\u001b[43m \u001b[49m\u001b[38;5;241;43m*\u001b[39;49m\u001b[38;5;241;43m*\u001b[39;49m\u001b[43mkwargs\u001b[49m\u001b[43m)\u001b[49m\n\u001b[1;32m   1502\u001b[0m \u001b[38;5;66;03m# Do not call functions when jit is used\u001b[39;00m\n\u001b[1;32m   1503\u001b[0m full_backward_hooks, non_full_backward_hooks \u001b[38;5;241m=\u001b[39m [], []\n",
      "File \u001b[0;32m~/work/vit.py:183\u001b[0m, in \u001b[0;36mTransformer.forward\u001b[0;34m(self, x)\u001b[0m\n\u001b[1;32m    180\u001b[0m x \u001b[38;5;241m=\u001b[39m \u001b[38;5;28mself\u001b[39m\u001b[38;5;241m.\u001b[39mpos_drop(x)\n\u001b[1;32m    182\u001b[0m \u001b[38;5;28;01mfor\u001b[39;00m block \u001b[38;5;129;01min\u001b[39;00m \u001b[38;5;28mself\u001b[39m\u001b[38;5;241m.\u001b[39mblocks:\n\u001b[0;32m--> 183\u001b[0m     x \u001b[38;5;241m=\u001b[39m \u001b[43mblock\u001b[49m\u001b[43m(\u001b[49m\u001b[43mx\u001b[49m\u001b[43m)\u001b[49m\n\u001b[1;32m    185\u001b[0m x \u001b[38;5;241m=\u001b[39m \u001b[38;5;28mself\u001b[39m\u001b[38;5;241m.\u001b[39mnorm(x)\n\u001b[1;32m    187\u001b[0m cls_token_final \u001b[38;5;241m=\u001b[39m x[:, \u001b[38;5;241m0\u001b[39m]  \n",
      "File \u001b[0;32m/opt/conda/lib/python3.10/site-packages/torch/nn/modules/module.py:1501\u001b[0m, in \u001b[0;36mModule._call_impl\u001b[0;34m(self, *args, **kwargs)\u001b[0m\n\u001b[1;32m   1496\u001b[0m \u001b[38;5;66;03m# If we don't have any hooks, we want to skip the rest of the logic in\u001b[39;00m\n\u001b[1;32m   1497\u001b[0m \u001b[38;5;66;03m# this function, and just call forward.\u001b[39;00m\n\u001b[1;32m   1498\u001b[0m \u001b[38;5;28;01mif\u001b[39;00m \u001b[38;5;129;01mnot\u001b[39;00m (\u001b[38;5;28mself\u001b[39m\u001b[38;5;241m.\u001b[39m_backward_hooks \u001b[38;5;129;01mor\u001b[39;00m \u001b[38;5;28mself\u001b[39m\u001b[38;5;241m.\u001b[39m_backward_pre_hooks \u001b[38;5;129;01mor\u001b[39;00m \u001b[38;5;28mself\u001b[39m\u001b[38;5;241m.\u001b[39m_forward_hooks \u001b[38;5;129;01mor\u001b[39;00m \u001b[38;5;28mself\u001b[39m\u001b[38;5;241m.\u001b[39m_forward_pre_hooks\n\u001b[1;32m   1499\u001b[0m         \u001b[38;5;129;01mor\u001b[39;00m _global_backward_pre_hooks \u001b[38;5;129;01mor\u001b[39;00m _global_backward_hooks\n\u001b[1;32m   1500\u001b[0m         \u001b[38;5;129;01mor\u001b[39;00m _global_forward_hooks \u001b[38;5;129;01mor\u001b[39;00m _global_forward_pre_hooks):\n\u001b[0;32m-> 1501\u001b[0m     \u001b[38;5;28;01mreturn\u001b[39;00m \u001b[43mforward_call\u001b[49m\u001b[43m(\u001b[49m\u001b[38;5;241;43m*\u001b[39;49m\u001b[43margs\u001b[49m\u001b[43m,\u001b[49m\u001b[43m \u001b[49m\u001b[38;5;241;43m*\u001b[39;49m\u001b[38;5;241;43m*\u001b[39;49m\u001b[43mkwargs\u001b[49m\u001b[43m)\u001b[49m\n\u001b[1;32m   1502\u001b[0m \u001b[38;5;66;03m# Do not call functions when jit is used\u001b[39;00m\n\u001b[1;32m   1503\u001b[0m full_backward_hooks, non_full_backward_hooks \u001b[38;5;241m=\u001b[39m [], []\n",
      "File \u001b[0;32m~/work/vit.py:119\u001b[0m, in \u001b[0;36mEncoderLayer.forward\u001b[0;34m(self, x)\u001b[0m\n\u001b[1;32m    118\u001b[0m \u001b[38;5;28;01mdef\u001b[39;00m \u001b[38;5;21mforward\u001b[39m(\u001b[38;5;28mself\u001b[39m, x):\n\u001b[0;32m--> 119\u001b[0m     x \u001b[38;5;241m=\u001b[39m x \u001b[38;5;241m+\u001b[39m \u001b[38;5;28;43mself\u001b[39;49m\u001b[38;5;241;43m.\u001b[39;49m\u001b[43mattn\u001b[49m\u001b[43m(\u001b[49m\u001b[38;5;28;43mself\u001b[39;49m\u001b[38;5;241;43m.\u001b[39;49m\u001b[43mnorm1\u001b[49m\u001b[43m(\u001b[49m\u001b[43mx\u001b[49m\u001b[43m)\u001b[49m\u001b[43m)\u001b[49m\n\u001b[1;32m    120\u001b[0m     x \u001b[38;5;241m=\u001b[39m x \u001b[38;5;241m+\u001b[39m \u001b[38;5;28mself\u001b[39m\u001b[38;5;241m.\u001b[39mmlp(\u001b[38;5;28mself\u001b[39m\u001b[38;5;241m.\u001b[39mnorm2(x))\n\u001b[1;32m    122\u001b[0m     \u001b[38;5;28;01mreturn\u001b[39;00m x\n",
      "File \u001b[0;32m/opt/conda/lib/python3.10/site-packages/torch/nn/modules/module.py:1501\u001b[0m, in \u001b[0;36mModule._call_impl\u001b[0;34m(self, *args, **kwargs)\u001b[0m\n\u001b[1;32m   1496\u001b[0m \u001b[38;5;66;03m# If we don't have any hooks, we want to skip the rest of the logic in\u001b[39;00m\n\u001b[1;32m   1497\u001b[0m \u001b[38;5;66;03m# this function, and just call forward.\u001b[39;00m\n\u001b[1;32m   1498\u001b[0m \u001b[38;5;28;01mif\u001b[39;00m \u001b[38;5;129;01mnot\u001b[39;00m (\u001b[38;5;28mself\u001b[39m\u001b[38;5;241m.\u001b[39m_backward_hooks \u001b[38;5;129;01mor\u001b[39;00m \u001b[38;5;28mself\u001b[39m\u001b[38;5;241m.\u001b[39m_backward_pre_hooks \u001b[38;5;129;01mor\u001b[39;00m \u001b[38;5;28mself\u001b[39m\u001b[38;5;241m.\u001b[39m_forward_hooks \u001b[38;5;129;01mor\u001b[39;00m \u001b[38;5;28mself\u001b[39m\u001b[38;5;241m.\u001b[39m_forward_pre_hooks\n\u001b[1;32m   1499\u001b[0m         \u001b[38;5;129;01mor\u001b[39;00m _global_backward_pre_hooks \u001b[38;5;129;01mor\u001b[39;00m _global_backward_hooks\n\u001b[1;32m   1500\u001b[0m         \u001b[38;5;129;01mor\u001b[39;00m _global_forward_hooks \u001b[38;5;129;01mor\u001b[39;00m _global_forward_pre_hooks):\n\u001b[0;32m-> 1501\u001b[0m     \u001b[38;5;28;01mreturn\u001b[39;00m \u001b[43mforward_call\u001b[49m\u001b[43m(\u001b[49m\u001b[38;5;241;43m*\u001b[39;49m\u001b[43margs\u001b[49m\u001b[43m,\u001b[49m\u001b[43m \u001b[49m\u001b[38;5;241;43m*\u001b[39;49m\u001b[38;5;241;43m*\u001b[39;49m\u001b[43mkwargs\u001b[49m\u001b[43m)\u001b[49m\n\u001b[1;32m   1502\u001b[0m \u001b[38;5;66;03m# Do not call functions when jit is used\u001b[39;00m\n\u001b[1;32m   1503\u001b[0m full_backward_hooks, non_full_backward_hooks \u001b[38;5;241m=\u001b[39m [], []\n",
      "File \u001b[0;32m~/work/vit.py:64\u001b[0m, in \u001b[0;36mMultiHeadAttentionBlock.forward\u001b[0;34m(self, x)\u001b[0m\n\u001b[1;32m     60\u001b[0m dp \u001b[38;5;241m=\u001b[39m (\n\u001b[1;32m     61\u001b[0m     q \u001b[38;5;241m@\u001b[39m k_t\n\u001b[1;32m     62\u001b[0m ) \u001b[38;5;241m*\u001b[39m \u001b[38;5;28mself\u001b[39m\u001b[38;5;241m.\u001b[39mscale  \n\u001b[1;32m     63\u001b[0m attn \u001b[38;5;241m=\u001b[39m dp\u001b[38;5;241m.\u001b[39msoftmax(dim\u001b[38;5;241m=\u001b[39m\u001b[38;5;241m-\u001b[39m\u001b[38;5;241m1\u001b[39m) \n\u001b[0;32m---> 64\u001b[0m attn \u001b[38;5;241m=\u001b[39m \u001b[38;5;28;43mself\u001b[39;49m\u001b[38;5;241;43m.\u001b[39;49m\u001b[43mattn_drop\u001b[49m\u001b[43m(\u001b[49m\u001b[43mattn\u001b[49m\u001b[43m)\u001b[49m\n\u001b[1;32m     66\u001b[0m weighted_avg \u001b[38;5;241m=\u001b[39m attn \u001b[38;5;241m@\u001b[39m v  \n\u001b[1;32m     67\u001b[0m weighted_avg \u001b[38;5;241m=\u001b[39m weighted_avg\u001b[38;5;241m.\u001b[39mtranspose(\n\u001b[1;32m     68\u001b[0m     \u001b[38;5;241m1\u001b[39m, \u001b[38;5;241m2\u001b[39m\n\u001b[1;32m     69\u001b[0m )  \n",
      "File \u001b[0;32m/opt/conda/lib/python3.10/site-packages/torch/nn/modules/module.py:1501\u001b[0m, in \u001b[0;36mModule._call_impl\u001b[0;34m(self, *args, **kwargs)\u001b[0m\n\u001b[1;32m   1496\u001b[0m \u001b[38;5;66;03m# If we don't have any hooks, we want to skip the rest of the logic in\u001b[39;00m\n\u001b[1;32m   1497\u001b[0m \u001b[38;5;66;03m# this function, and just call forward.\u001b[39;00m\n\u001b[1;32m   1498\u001b[0m \u001b[38;5;28;01mif\u001b[39;00m \u001b[38;5;129;01mnot\u001b[39;00m (\u001b[38;5;28mself\u001b[39m\u001b[38;5;241m.\u001b[39m_backward_hooks \u001b[38;5;129;01mor\u001b[39;00m \u001b[38;5;28mself\u001b[39m\u001b[38;5;241m.\u001b[39m_backward_pre_hooks \u001b[38;5;129;01mor\u001b[39;00m \u001b[38;5;28mself\u001b[39m\u001b[38;5;241m.\u001b[39m_forward_hooks \u001b[38;5;129;01mor\u001b[39;00m \u001b[38;5;28mself\u001b[39m\u001b[38;5;241m.\u001b[39m_forward_pre_hooks\n\u001b[1;32m   1499\u001b[0m         \u001b[38;5;129;01mor\u001b[39;00m _global_backward_pre_hooks \u001b[38;5;129;01mor\u001b[39;00m _global_backward_hooks\n\u001b[1;32m   1500\u001b[0m         \u001b[38;5;129;01mor\u001b[39;00m _global_forward_hooks \u001b[38;5;129;01mor\u001b[39;00m _global_forward_pre_hooks):\n\u001b[0;32m-> 1501\u001b[0m     \u001b[38;5;28;01mreturn\u001b[39;00m \u001b[43mforward_call\u001b[49m\u001b[43m(\u001b[49m\u001b[38;5;241;43m*\u001b[39;49m\u001b[43margs\u001b[49m\u001b[43m,\u001b[49m\u001b[43m \u001b[49m\u001b[38;5;241;43m*\u001b[39;49m\u001b[38;5;241;43m*\u001b[39;49m\u001b[43mkwargs\u001b[49m\u001b[43m)\u001b[49m\n\u001b[1;32m   1502\u001b[0m \u001b[38;5;66;03m# Do not call functions when jit is used\u001b[39;00m\n\u001b[1;32m   1503\u001b[0m full_backward_hooks, non_full_backward_hooks \u001b[38;5;241m=\u001b[39m [], []\n",
      "File \u001b[0;32m/opt/conda/lib/python3.10/site-packages/torch/nn/modules/dropout.py:59\u001b[0m, in \u001b[0;36mDropout.forward\u001b[0;34m(self, input)\u001b[0m\n\u001b[1;32m     58\u001b[0m \u001b[38;5;28;01mdef\u001b[39;00m \u001b[38;5;21mforward\u001b[39m(\u001b[38;5;28mself\u001b[39m, \u001b[38;5;28minput\u001b[39m: Tensor) \u001b[38;5;241m-\u001b[39m\u001b[38;5;241m>\u001b[39m Tensor:\n\u001b[0;32m---> 59\u001b[0m     \u001b[38;5;28;01mreturn\u001b[39;00m \u001b[43mF\u001b[49m\u001b[38;5;241;43m.\u001b[39;49m\u001b[43mdropout\u001b[49m\u001b[43m(\u001b[49m\u001b[38;5;28;43minput\u001b[39;49m\u001b[43m,\u001b[49m\u001b[43m \u001b[49m\u001b[38;5;28;43mself\u001b[39;49m\u001b[38;5;241;43m.\u001b[39;49m\u001b[43mp\u001b[49m\u001b[43m,\u001b[49m\u001b[43m \u001b[49m\u001b[38;5;28;43mself\u001b[39;49m\u001b[38;5;241;43m.\u001b[39;49m\u001b[43mtraining\u001b[49m\u001b[43m,\u001b[49m\u001b[43m \u001b[49m\u001b[38;5;28;43mself\u001b[39;49m\u001b[38;5;241;43m.\u001b[39;49m\u001b[43minplace\u001b[49m\u001b[43m)\u001b[49m\n",
      "File \u001b[0;32m/opt/conda/lib/python3.10/site-packages/torch/nn/functional.py:1252\u001b[0m, in \u001b[0;36mdropout\u001b[0;34m(input, p, training, inplace)\u001b[0m\n\u001b[1;32m   1250\u001b[0m \u001b[38;5;28;01mif\u001b[39;00m p \u001b[38;5;241m<\u001b[39m \u001b[38;5;241m0.0\u001b[39m \u001b[38;5;129;01mor\u001b[39;00m p \u001b[38;5;241m>\u001b[39m \u001b[38;5;241m1.0\u001b[39m:\n\u001b[1;32m   1251\u001b[0m     \u001b[38;5;28;01mraise\u001b[39;00m \u001b[38;5;167;01mValueError\u001b[39;00m(\u001b[38;5;124m\"\u001b[39m\u001b[38;5;124mdropout probability has to be between 0 and 1, \u001b[39m\u001b[38;5;124m\"\u001b[39m \u001b[38;5;124m\"\u001b[39m\u001b[38;5;124mbut got \u001b[39m\u001b[38;5;132;01m{}\u001b[39;00m\u001b[38;5;124m\"\u001b[39m\u001b[38;5;241m.\u001b[39mformat(p))\n\u001b[0;32m-> 1252\u001b[0m \u001b[38;5;28;01mreturn\u001b[39;00m _VF\u001b[38;5;241m.\u001b[39mdropout_(\u001b[38;5;28minput\u001b[39m, p, training) \u001b[38;5;28;01mif\u001b[39;00m inplace \u001b[38;5;28;01melse\u001b[39;00m \u001b[43m_VF\u001b[49m\u001b[38;5;241;43m.\u001b[39;49m\u001b[43mdropout\u001b[49m\u001b[43m(\u001b[49m\u001b[38;5;28;43minput\u001b[39;49m\u001b[43m,\u001b[49m\u001b[43m \u001b[49m\u001b[43mp\u001b[49m\u001b[43m,\u001b[49m\u001b[43m \u001b[49m\u001b[43mtraining\u001b[49m\u001b[43m)\u001b[49m\n",
      "\u001b[0;31mOutOfMemoryError\u001b[0m: CUDA out of memory. Tried to allocate 226.00 MiB (GPU 0; 23.69 GiB total capacity; 21.34 GiB already allocated; 139.81 MiB free; 21.53 GiB reserved in total by PyTorch) If reserved memory is >> allocated memory try setting max_split_size_mb to avoid fragmentation.  See documentation for Memory Management and PYTORCH_CUDA_ALLOC_CONF"
     ]
    }
   ],
   "source": [
    "training(transformer, train_dataloader, test_dataloader, \n",
    "         device, 20, optimizer,\n",
    "         path='multi_label_output/transformer.pt',\n",
    "         multi_label=True\n",
    "        )"
   ]
  },
  {
   "cell_type": "code",
   "execution_count": null,
   "id": "0ee56368-dde0-4cac-9f45-a013934a1ecb",
   "metadata": {},
   "outputs": [],
   "source": []
  }
 ],
 "metadata": {
  "kernelspec": {
   "display_name": "Python 3 (ipykernel)",
   "language": "python",
   "name": "python3"
  },
  "language_info": {
   "codemirror_mode": {
    "name": "ipython",
    "version": 3
   },
   "file_extension": ".py",
   "mimetype": "text/x-python",
   "name": "python",
   "nbconvert_exporter": "python",
   "pygments_lexer": "ipython3",
   "version": "3.10.8"
  }
 },
 "nbformat": 4,
 "nbformat_minor": 5
}
